{
 "cells": [
  {
   "metadata": {},
   "cell_type": "markdown",
   "source": [
    "# Lab 1\n",
    "\n",
    "### Q: Represent an AND gate using Mc Culloh Pitts Model"
   ],
   "id": "5a09bf90be63a236"
  },
  {
   "metadata": {
    "ExecuteTime": {
     "end_time": "2025-09-12T04:20:30.058047Z",
     "start_time": "2025-09-12T04:20:30.052347Z"
    }
   },
   "cell_type": "code",
   "source": [
    "def mcp_perceptron(xi: int, xj: int, wi: int, wj:int, theta:int):\n",
    "\n",
    "    if wi*xi + wj*xj >= theta:\n",
    "        return 1\n",
    "    else:\n",
    "        return 0\n"
   ],
   "id": "1dea13ce0a186548",
   "outputs": [],
   "execution_count": 20
  },
  {
   "metadata": {
    "ExecuteTime": {
     "end_time": "2025-09-12T04:22:27.218910Z",
     "start_time": "2025-09-12T04:22:27.211060Z"
    }
   },
   "cell_type": "code",
   "source": [
    "def and_gate():\n",
    "\n",
    "    X = [] # x values\n",
    "    for i in range(0,2):\n",
    "        for j in range(0,2):\n",
    "            X.append([i,j])\n",
    "\n",
    "    W = [1,1]\n",
    "    Theta = 2\n",
    "\n",
    "    print(\"X1   X2  X1 AND X2\")\n",
    "    for i in range(0,4):\n",
    "        print(f\"{X[i][0]}   AND  {X[i][1]}   ==   {mcp_perceptron(X[i][0], X[i][1], W[0], W[1], Theta)}\")\n",
    "\n",
    "and_gate()"
   ],
   "id": "a56b5f89e37adb80",
   "outputs": [
    {
     "name": "stdout",
     "output_type": "stream",
     "text": [
      "X1   X2  X1 AND X2\n",
      "0   AND  0   ==   0\n",
      "0   AND  1   ==   0\n",
      "1   AND  0   ==   0\n",
      "1   AND  1   ==   1\n"
     ]
    }
   ],
   "execution_count": 22
  },
  {
   "metadata": {},
   "cell_type": "markdown",
   "source": "### Q: Represent an OR gate using Mc Culloh Pitts Model",
   "id": "d0405d8def803c9e"
  },
  {
   "metadata": {
    "ExecuteTime": {
     "end_time": "2025-09-12T04:22:28.495901Z",
     "start_time": "2025-09-12T04:22:28.486472Z"
    }
   },
   "cell_type": "code",
   "source": [
    "def or_gate():\n",
    "\n",
    "    X = [] # x values\n",
    "    for i in range(0,2):\n",
    "        for j in range(0,2):\n",
    "            X.append([i,j])\n",
    "\n",
    "    W = [1,1]\n",
    "    Theta = 1\n",
    "\n",
    "    print(\"X1   X2  X1 AND X2\")\n",
    "    for i in range(0,4):\n",
    "        print(f\"{X[i][0]}  OR   {X[i][1]}   ==   {mcp_perceptron(X[i][0], X[i][1], W[0], W[1], Theta)}\")\n",
    "\n",
    "or_gate()"
   ],
   "id": "b600f4997a169472",
   "outputs": [
    {
     "name": "stdout",
     "output_type": "stream",
     "text": [
      "X1   X2  X1 AND X2\n",
      "0  OR   0   ==   0\n",
      "0  OR   1   ==   1\n",
      "1  OR   0   ==   1\n",
      "1  OR   1   ==   1\n"
     ]
    }
   ],
   "execution_count": 23
  },
  {
   "metadata": {},
   "cell_type": "markdown",
   "source": "### Q: Represent an XOR gate using Mc Culloh Pitts Model",
   "id": "8034592dcda9b194"
  },
  {
   "metadata": {
    "ExecuteTime": {
     "end_time": "2025-09-12T04:38:02.864551Z",
     "start_time": "2025-09-12T04:38:02.858004Z"
    }
   },
   "cell_type": "code",
   "source": [
    "def mcp_perceptron(xi: int, xj: int, wi: int, wj: int, theta: int):\n",
    "    return 1 if wi*xi + wj*xj >= theta else 0\n",
    "\n",
    "def and_gate(xi:int, xj:int):\n",
    "    return mcp_perceptron(xi, xj, 1, 1, 2)\n",
    "\n",
    "def or_gate(xi:int, xj:int):\n",
    "    return mcp_perceptron(xi, xj, 1, 1, 1)\n",
    "\n",
    "def not_gate(x:int):\n",
    "    return 1 if (-1 * x) >= 0 else 0\n"
   ],
   "id": "4a23e88e99e2ef7a",
   "outputs": [],
   "execution_count": 33
  },
  {
   "metadata": {
    "ExecuteTime": {
     "end_time": "2025-09-12T04:38:04.923986Z",
     "start_time": "2025-09-12T04:38:04.915834Z"
    }
   },
   "cell_type": "code",
   "source": [
    "def xor_gate(xi, xj):\n",
    "    or_ans = or_gate(xi, xj)\n",
    "    and_ans = and_gate(xi, xj)\n",
    "    not_of_and = not_gate(and_ans)\n",
    "    return and_gate(or_ans, not_of_and)\n",
    "\n",
    "X = [[i, j] for i in range(2) for j in range(2)]\n",
    "print(\"X1  X2  XOR\")\n",
    "for xi, xj in X:\n",
    "    print(f\"{xi}   {xj}   {xor_gate(xi, xj)}\")"
   ],
   "id": "8fe06c441f1fea6e",
   "outputs": [
    {
     "name": "stdout",
     "output_type": "stream",
     "text": [
      "X1  X2  XOR\n",
      "0   0   0\n",
      "0   1   1\n",
      "1   0   1\n",
      "1   1   0\n"
     ]
    }
   ],
   "execution_count": 34
  },
  {
   "metadata": {},
   "cell_type": "code",
   "outputs": [],
   "execution_count": null,
   "source": "",
   "id": "dcddd17bf01dfdba"
  }
 ],
 "metadata": {
  "kernelspec": {
   "display_name": "Python 3",
   "language": "python",
   "name": "python3"
  },
  "language_info": {
   "codemirror_mode": {
    "name": "ipython",
    "version": 2
   },
   "file_extension": ".py",
   "mimetype": "text/x-python",
   "name": "python",
   "nbconvert_exporter": "python",
   "pygments_lexer": "ipython2",
   "version": "2.7.6"
  }
 },
 "nbformat": 4,
 "nbformat_minor": 5
}
