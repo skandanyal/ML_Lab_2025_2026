{
 "cells": [
  {
   "metadata": {},
   "cell_type": "markdown",
   "source": [
    "# Lab 1\n",
    "\n",
    "### Q: Represent an AND gate using Mc Culloh Pitts Model"
   ],
   "id": "5a09bf90be63a236"
  },
  {
   "metadata": {
    "ExecuteTime": {
     "end_time": "2025-09-26T10:32:19.327909Z",
     "start_time": "2025-09-26T10:32:19.325632Z"
    }
   },
   "cell_type": "code",
   "source": [
    "def mcp_perceptron(xi: int, xj: int, wi: int, wj:int, theta:int):\n",
    "\n",
    "    if wi*xi + wj*xj >= theta:\n",
    "        return 1\n",
    "    else:\n",
    "        return 0\n"
   ],
   "id": "1dea13ce0a186548",
   "outputs": [],
   "execution_count": 1
  },
  {
   "metadata": {
    "ExecuteTime": {
     "end_time": "2025-09-26T10:32:19.410209Z",
     "start_time": "2025-09-26T10:32:19.407497Z"
    }
   },
   "cell_type": "code",
   "source": [
    "def and_gate():\n",
    "\n",
    "    X = [] # x values\n",
    "    for i in range(0,2):\n",
    "        for j in range(0,2):\n",
    "            X.append([i,j])\n",
    "\n",
    "    W = [1,1]\n",
    "    Theta = 2\n",
    "\n",
    "    print(\"X1   X2  X1 AND X2\")\n",
    "    for i in range(0,4):\n",
    "        print(f\"{X[i][0]}   AND  {X[i][1]}   ==   {mcp_perceptron(X[i][0], X[i][1], W[0], W[1], Theta)}\")\n",
    "\n",
    "and_gate()"
   ],
   "id": "a56b5f89e37adb80",
   "outputs": [
    {
     "name": "stdout",
     "output_type": "stream",
     "text": [
      "X1   X2  X1 AND X2\n",
      "0   AND  0   ==   0\n",
      "0   AND  1   ==   0\n",
      "1   AND  0   ==   0\n",
      "1   AND  1   ==   1\n"
     ]
    }
   ],
   "execution_count": 2
  },
  {
   "metadata": {},
   "cell_type": "markdown",
   "source": "### Q: Represent an OR gate using Mc Culloh Pitts Model",
   "id": "d0405d8def803c9e"
  },
  {
   "metadata": {
    "ExecuteTime": {
     "end_time": "2025-09-26T10:32:19.478148Z",
     "start_time": "2025-09-26T10:32:19.474355Z"
    }
   },
   "cell_type": "code",
   "source": [
    "def or_gate():\n",
    "\n",
    "    X = [] # x values\n",
    "    for i in range(0,2):\n",
    "        for j in range(0,2):\n",
    "            X.append([i,j])\n",
    "\n",
    "    W = [1,1]\n",
    "    Theta = 1\n",
    "\n",
    "    print(\"X1   X2  X1 AND X2\")\n",
    "    for i in range(0,4):\n",
    "        print(f\"{X[i][0]}  OR   {X[i][1]}   ==   {mcp_perceptron(X[i][0], X[i][1], W[0], W[1], Theta)}\")\n",
    "\n",
    "or_gate()"
   ],
   "id": "b600f4997a169472",
   "outputs": [
    {
     "name": "stdout",
     "output_type": "stream",
     "text": [
      "X1   X2  X1 AND X2\n",
      "0  OR   0   ==   0\n",
      "0  OR   1   ==   1\n",
      "1  OR   0   ==   1\n",
      "1  OR   1   ==   1\n"
     ]
    }
   ],
   "execution_count": 3
  },
  {
   "metadata": {},
   "cell_type": "markdown",
   "source": "### Q: Represent an XOR gate using Mc Culloh Pitts Model",
   "id": "8034592dcda9b194"
  },
  {
   "metadata": {
    "ExecuteTime": {
     "end_time": "2025-09-26T10:32:19.528804Z",
     "start_time": "2025-09-26T10:32:19.525478Z"
    }
   },
   "cell_type": "code",
   "source": [
    "def mcp_perceptron(xi: int, xj: int, wi: int, wj: int, theta: int):\n",
    "    return 1 if wi*xi + wj*xj >= theta else 0\n",
    "\n",
    "def and_gate(xi:int, xj:int):\n",
    "    return mcp_perceptron(xi, xj, 1, 1, 2)\n",
    "\n",
    "def or_gate(xi:int, xj:int):\n",
    "    return mcp_perceptron(xi, xj, 1, 1, 1)\n",
    "\n",
    "def not_gate(x:int):\n",
    "    return 1 if (-1 * x) >= 0 else 0\n"
   ],
   "id": "4a23e88e99e2ef7a",
   "outputs": [],
   "execution_count": 4
  },
  {
   "metadata": {
    "ExecuteTime": {
     "end_time": "2025-09-26T10:32:19.578124Z",
     "start_time": "2025-09-26T10:32:19.574477Z"
    }
   },
   "cell_type": "code",
   "source": [
    "def xor_gate(xi, xj):\n",
    "    or_ans = or_gate(xi, xj)\n",
    "    and_ans = and_gate(xi, xj)\n",
    "    not_of_and = not_gate(and_ans)\n",
    "    return and_gate(or_ans, not_of_and)\n",
    "\n",
    "X = [[i, j] for i in range(2) for j in range(2)]\n",
    "print(\"X1  X2  XOR\")\n",
    "for xi, xj in X:\n",
    "    print(f\"{xi}   {xj}   {xor_gate(xi, xj)}\")"
   ],
   "id": "8fe06c441f1fea6e",
   "outputs": [
    {
     "name": "stdout",
     "output_type": "stream",
     "text": [
      "X1  X2  XOR\n",
      "0   0   0\n",
      "0   1   1\n",
      "1   0   1\n",
      "1   1   0\n"
     ]
    }
   ],
   "execution_count": 5
  },
  {
   "metadata": {
    "ExecuteTime": {
     "end_time": "2025-09-26T10:32:19.631141Z",
     "start_time": "2025-09-26T10:32:19.629529Z"
    }
   },
   "cell_type": "code",
   "source": "",
   "id": "dcddd17bf01dfdba",
   "outputs": [],
   "execution_count": null
  }
 ],
 "metadata": {
  "kernelspec": {
   "display_name": "Python 3",
   "language": "python",
   "name": "python3"
  },
  "language_info": {
   "codemirror_mode": {
    "name": "ipython",
    "version": 2
   },
   "file_extension": ".py",
   "mimetype": "text/x-python",
   "name": "python",
   "nbconvert_exporter": "python",
   "pygments_lexer": "ipython2",
   "version": "2.7.6"
  }
 },
 "nbformat": 4,
 "nbformat_minor": 5
}
